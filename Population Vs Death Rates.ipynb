{
 "cells": [
  {
   "cell_type": "code",
   "execution_count": null,
   "id": "183b4d1e",
   "metadata": {},
   "outputs": [],
   "source": [
    "import pandas as pd\n",
    "import numpy as np\n",
    "import matplotlib.pyplot as plt\n",
    "\n",
    "# read csv files\n",
    "\n",
    "cause_of_death_csv = pd.read_csv(\"cause_of_deaths.csv\")\n",
    "population_csv = pd.read_csv(\"POP_TOTAL_DS2_en_v2.csv\", skiprows=4)\n",
    "\n",
    "cause_of_death = pd.DataFrame(cause_of_death_csv)\n",
    "#cause_of_death_csv\n",
    "population_csv.head()"
   ]
  },
  {
   "cell_type": "code",
   "execution_count": null,
   "id": "4f4eddd8",
   "metadata": {},
   "outputs": [],
   "source": [
    "countries_continents = pd.read_csv('countries_continents.csv')\n",
    "\n",
    "cause_death = pd.merge(cause_of_death, countries_continents, how = 'left', left_on=['Country/Territory'], right_on=['Country'])\n",
    "cause_death"
   ]
  },
  {
   "cell_type": "code",
   "execution_count": null,
   "id": "833f6a11",
   "metadata": {},
   "outputs": [],
   "source": []
  },
  {
   "cell_type": "code",
   "execution_count": null,
   "id": "0efca0da",
   "metadata": {},
   "outputs": [],
   "source": [
    "population = pd.DataFrame(population_csv)\n",
    "population_drop = population.drop(population.iloc[:, 3:34], axis=1)\n",
    "population_drop.head()"
   ]
  },
  {
   "cell_type": "code",
   "execution_count": null,
   "id": "19ba6394",
   "metadata": {},
   "outputs": [],
   "source": [
    "cleaned_population = population_drop.drop(['2016', 'Unnamed: 61'], axis=1)\n",
    "cleaned_population.head()"
   ]
  },
  {
   "cell_type": "code",
   "execution_count": null,
   "id": "c055463a",
   "metadata": {},
   "outputs": [],
   "source": [
    "population_total = cleaned_population.rename(columns={\"Country Name\": \"Country/Territory\"})\n",
    "population_total.head()"
   ]
  },
  {
   "cell_type": "code",
   "execution_count": null,
   "id": "9c143783",
   "metadata": {},
   "outputs": [],
   "source": [
    "# Convert to long format\n",
    "year = list(population_total.columns)[3:]\n",
    "years = pd.melt(population_total, id_vars=[\"Country/Territory\"], value_vars=year, value_name='Total Population', \n",
    "                var_name='Year')\n",
    "complete = years.sort_values(by=['Country/Territory', 'Year'])\n",
    "complete.head()"
   ]
  },
  {
   "cell_type": "code",
   "execution_count": null,
   "id": "b3bea630",
   "metadata": {},
   "outputs": [],
   "source": [
    "death_cause = cause_death['Year']=cause_death['Year'].astype(str)"
   ]
  },
  {
   "cell_type": "code",
   "execution_count": null,
   "id": "a8c81d61",
   "metadata": {},
   "outputs": [],
   "source": [
    "# Merge data of csv file\n",
    "merge_data = pd.merge(cause_death, complete, on=['Country/Territory', 'Year'], how=\"left\")\n",
    "# merge_data = pd.merge(cause_of_death, complete, how=\"left\", right_index=True, left_index=True)\n",
    "death_and_population = merge_data.dropna()\n",
    "death_and_population"
   ]
  },
  {
   "cell_type": "code",
   "execution_count": null,
   "id": "36633b31",
   "metadata": {},
   "outputs": [],
   "source": []
  },
  {
   "cell_type": "code",
   "execution_count": null,
   "id": "dcbb193f",
   "metadata": {},
   "outputs": [],
   "source": [
    "#add a new col for percentage using population values\n",
    "\n",
    "\n",
    "for disease in death_and_population.columns[3:-1]:\n",
    "    title = disease + ' Percentage'\n",
    "    \n",
    "    death_and_population[title] = (death_and_population[disease] / death_and_population['Total Population']) * 100\n",
    "\n",
    "death_and_population"
   ]
  },
  {
   "cell_type": "code",
   "execution_count": null,
   "id": "4969d4db",
   "metadata": {},
   "outputs": [],
   "source": [
    "#continent_year = cause_of_death[cause_of_death['Year'] == 1990].groupby('Continent').count()\n",
    "#continent_year\n",
    "#repeat for all the continents \n",
    "# continents = cause_of_death.groupby('Continent').sum()\n",
    "\n",
    "# for continent in continents.index:\n",
    "#     cause_continent = cause_death[cause_death['Continent'] == continent]\n",
    "#     year_continent = cause_continent.groupby('Year').sum()\n",
    "#     plt.plot(year_continent.index, year_continent['Cardiovascular Diseases'])\n",
    "    \n",
    "    \n",
    "# plt.legend(continent_year.index)\n",
    "# plt.title('Cardiovascular Diseases vs Year')\n",
    "# plt.ylabel('Cardiovascular Diseases Cases')"
   ]
  },
  {
   "cell_type": "code",
   "execution_count": null,
   "id": "c351ed5b",
   "metadata": {},
   "outputs": [],
   "source": []
  },
  {
   "cell_type": "code",
   "execution_count": null,
   "id": "13c51086",
   "metadata": {},
   "outputs": [],
   "source": []
  },
  {
   "cell_type": "code",
   "execution_count": null,
   "id": "d6951a88",
   "metadata": {},
   "outputs": [],
   "source": []
  },
  {
   "cell_type": "code",
   "execution_count": null,
   "id": "17111ffc",
   "metadata": {},
   "outputs": [],
   "source": []
  }
 ],
 "metadata": {
  "kernelspec": {
   "display_name": "Python 3 (ipykernel)",
   "language": "python",
   "name": "python3"
  },
  "language_info": {
   "codemirror_mode": {
    "name": "ipython",
    "version": 3
   },
   "file_extension": ".py",
   "mimetype": "text/x-python",
   "name": "python",
   "nbconvert_exporter": "python",
   "pygments_lexer": "ipython3",
   "version": "3.9.13"
  }
 },
 "nbformat": 4,
 "nbformat_minor": 5
}
